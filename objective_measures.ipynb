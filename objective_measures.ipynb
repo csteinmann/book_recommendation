{
 "cells": [
  {
   "cell_type": "markdown",
   "id": "3f70de60",
   "metadata": {},
   "source": [
    "***Code to compute the objective measures of each algorithm***"
   ]
  },
  {
   "cell_type": "code",
   "execution_count": 1,
   "id": "1683e80a",
   "metadata": {},
   "outputs": [],
   "source": [
    "import pandas as pd\n",
    "import os\n",
    "import pathlib\n",
    "from lenskit import crossfold as xf\n",
    "from lenskit.algorithms import Recommender, item_knn, user_knn, als\n",
    "from lenskit.batch import predict\n",
    "from lenskit.metrics.predict import user_metric, rmse\n",
    "from sklearn.metrics.pairwise import cosine_similarity\n",
    "import csv\n",
    "\n",
    "BASE_DIR = pathlib.Path().resolve()"
   ]
  },
  {
   "cell_type": "markdown",
   "id": "1ebb51c5",
   "metadata": {},
   "source": [
    "Ajust your path that it matches the location of the data files needed in generating_rec_lists.ipynb"
   ]
  },
  {
   "cell_type": "code",
   "execution_count": 5,
   "id": "aa6c296c",
   "metadata": {},
   "outputs": [],
   "source": [
    "book_df = pd.read_csv(os.path.join(BASE_DIR, '../recommendations/df_books.csv'))\n",
    "user_df = pd.read_csv(os.path.join(BASE_DIR, '../recommendations/df_users.csv'))"
   ]
  },
  {
   "cell_type": "markdown",
   "id": "1abd714f",
   "metadata": {},
   "source": [
    "***ACCURACY RMSE SCORES***"
   ]
  },
  {
   "cell_type": "markdown",
   "id": "255463b3",
   "metadata": {},
   "source": [
    "The RMSE metric is calculated by regarding the difference of the predicted rating and the actual rating of the last 5 items of each user. To ensure that there is enough data, only user ratings where the user has done 15 ratings are considered."
   ]
  },
  {
   "cell_type": "code",
   "execution_count": 7,
   "id": "af24851c",
   "metadata": {},
   "outputs": [],
   "source": [
    "# Filter users with at least 15 ratings\n",
    "user_counts = user_df['user_id'].value_counts()\n",
    "users_with_enough_ratings = user_counts[user_counts >= 15].index\n",
    "filtered_df = user_df[user_df['user_id'].isin(users_with_enough_ratings)]"
   ]
  },
  {
   "cell_type": "markdown",
   "id": "7c85f546",
   "metadata": {},
   "source": [
    "Rename some columns for the fitting process for the algorithms"
   ]
  },
  {
   "cell_type": "code",
   "execution_count": 8,
   "id": "8cc5b22e",
   "metadata": {},
   "outputs": [],
   "source": [
    "model_df = filtered_df[['book_id', 'user_id', 'user_rating']]\n",
    "model_df = model_df.rename(columns={'book_id': 'item', 'user_id': 'user', 'user_rating': 'rating'})"
   ]
  },
  {
   "cell_type": "markdown",
   "id": "d3c9458b",
   "metadata": {},
   "source": [
    "Algorithm configuration"
   ]
  },
  {
   "cell_type": "code",
   "execution_count": 9,
   "id": "5fddd32c",
   "metadata": {},
   "outputs": [],
   "source": [
    "nnbrs = 20\n",
    "min_nbrs = 1\n",
    "min_sim = 0.1\n",
    "feedback = 'explicit'\n",
    "center = True\n",
    "\n",
    "algo_ii = item_knn.ItemItem(nnbrs=nnbrs, min_nbrs=min_nbrs, min_sim=min_sim, feedback=feedback, center=center)"
   ]
  },
  {
   "cell_type": "code",
   "execution_count": 10,
   "id": "8ccb932a",
   "metadata": {},
   "outputs": [],
   "source": [
    "nnbrs = 30\n",
    "min_nbrs = 1\n",
    "min_sim = 0.1\n",
    "feedback = 'explicit'\n",
    "center = True\n",
    "\n",
    "algo_uu = user_knn.UserUser(nnbrs=nnbrs, min_nbrs=min_nbrs, min_sim=min_sim, feedback=feedback, center=center)"
   ]
  },
  {
   "cell_type": "code",
   "execution_count": 11,
   "id": "88b387d2",
   "metadata": {},
   "outputs": [],
   "source": [
    "features = 50\n",
    "iterations = 20\n",
    "reg = 0.1\n",
    "damping = 5\n",
    "\n",
    "algo_als = als.BiasedMF(features=features, iterations=iterations, reg=reg, damping=damping)"
   ]
  },
  {
   "cell_type": "markdown",
   "id": "384aa8a8",
   "metadata": {},
   "source": [
    "Dictionary for storing the RMSE values"
   ]
  },
  {
   "cell_type": "code",
   "execution_count": 12,
   "id": "1109e9a8",
   "metadata": {},
   "outputs": [],
   "source": [
    "# Create a dictionary to store RMSE values for each algorithm\n",
    "rmse_values = {}"
   ]
  },
  {
   "cell_type": "markdown",
   "id": "e6df5397",
   "metadata": {},
   "source": [
    "Splitting the data based on the test_size attributes into train and test data"
   ]
  },
  {
   "cell_type": "code",
   "execution_count": 13,
   "id": "e84a4d9e",
   "metadata": {},
   "outputs": [],
   "source": [
    "test_size = 5\n",
    "# Split the data into training and testing sets\n",
    "test_data = model_df.groupby('user').tail(test_size).copy()\n",
    "train_data = model_df.drop(test_data.index).copy()"
   ]
  },
  {
   "cell_type": "markdown",
   "id": "c9f5189f",
   "metadata": {},
   "source": [
    "Generating the recommendations, predicting the ratings for the test data and calculating the RMSE score for each algorithm"
   ]
  },
  {
   "cell_type": "code",
   "execution_count": 30,
   "id": "c9842ec5",
   "metadata": {},
   "outputs": [
    {
     "name": "stdout",
     "output_type": "stream",
     "text": [
      "Finished Fitting II\n",
      "Finished Predicting II\n",
      "1.0451782898462219\n"
     ]
    }
   ],
   "source": [
    "# Create a copy of the algorithm\n",
    "algo_copy_ii = Recommender.adapt(ii)\n",
    "    \n",
    "# Fit the algorithm on the training data\n",
    "algo_copy_ii.fit(train_data)\n",
    "\n",
    "print('Finished Fitting II')\n",
    "\n",
    "# Generate predictions for the test set\n",
    "preds_ii = predict(algo_copy_ii, test_data)\n",
    "\n",
    "print('Finished Predicting II')\n",
    "\n",
    "# Calculate the overall RMSE\n",
    "overall_rmse_ii = rmse(preds_ii['prediction'], preds_ii['rating'])\n",
    "\n",
    "print(overall_rmse_ii)\n",
    "\n",
    "# Store the overall RMSE in the dictionary\n",
    "rmse_values['ItemItem'] = overall_rmse_ii"
   ]
  },
  {
   "cell_type": "code",
   "execution_count": 31,
   "id": "10ec4c10",
   "metadata": {},
   "outputs": [
    {
     "name": "stdout",
     "output_type": "stream",
     "text": [
      "Finished Fitting UU\n",
      "Finished Predicting UU\n",
      "1.19668077564113\n"
     ]
    }
   ],
   "source": [
    "# Create a copy of the algorithm\n",
    "algo_copy_uu = Recommender.adapt(uu)\n",
    "    \n",
    "# Fit the algorithm on the training data\n",
    "algo_copy_uu.fit(train_data)\n",
    "\n",
    "print('Finished Fitting UU')\n",
    "\n",
    "# Generate predictions for the test set\n",
    "preds_uu = predict(algo_copy_uu, test_data)\n",
    "\n",
    "print('Finished Predicting UU')\n",
    "\n",
    "# Calculate the overall RMSE\n",
    "overall_rmse_uu = rmse(preds_uu['prediction'], preds_uu['rating'])\n",
    "\n",
    "print(overall_rmse_uu)\n",
    "\n",
    "# Store the overall RMSE in the dictionary\n",
    "rmse_values['UseUser'] = overall_rmse_uu"
   ]
  },
  {
   "cell_type": "code",
   "execution_count": 32,
   "id": "95ad829d",
   "metadata": {},
   "outputs": [
    {
     "name": "stdout",
     "output_type": "stream",
     "text": [
      "Finished Fitting ALS\n",
      "Finished Predicting ALS\n",
      "1.1407774761288334\n"
     ]
    }
   ],
   "source": [
    "# Create a copy of the algorithm\n",
    "algo_copy_als = Recommender.adapt(als)\n",
    "    \n",
    "# Fit the algorithm on the training data\n",
    "algo_copy_als.fit(train_data)\n",
    "\n",
    "print('Finished Fitting ALS')\n",
    "\n",
    "# Generate predictions for the test set\n",
    "preds_als = predict(algo_copy_als, test_data)\n",
    "\n",
    "print('Finished Predicting ALS')\n",
    "\n",
    "# Calculate the overall RMSE\n",
    "overall_rmse_als = rmse(preds_als['prediction'], preds_als['rating'])\n",
    "\n",
    "print(overall_rmse_als)\n",
    "\n",
    "# Store the overall RMSE in the dictionary\n",
    "rmse_values['ALS'] = overall_rmse_als"
   ]
  },
  {
   "cell_type": "markdown",
   "id": "6db205ef",
   "metadata": {},
   "source": [
    "Create a dataframe with the results and write a csv file"
   ]
  },
  {
   "cell_type": "code",
   "execution_count": 100,
   "id": "fdd76eba",
   "metadata": {},
   "outputs": [],
   "source": [
    "RMSE_df = pd.DataFrame({'Algorithm' : ['ItemItem', 'UserUser', 'ALS'],\n",
    "                 'RMSE Score' : [1.0451782898462219, 1.19668077564113, 1.1407774761288334]})\n",
    "RMSE_df.to_csv('RMSE.csv', index=False)"
   ]
  },
  {
   "cell_type": "code",
   "execution_count": 107,
   "id": "af8f723b",
   "metadata": {},
   "outputs": [
    {
     "data": {
      "image/png": "[encoded data removed]",
      "text/plain": [
       "<Figure size 640x480 with 1 Axes>"
      ]
     },
     "metadata": {},
     "output_type": "display_data"
    }
   ],
   "source": [
    "ax = RMSE_df.plot(kind='barh', legend=False, y='RMSE Score', x='Algorithm')\n",
    "ax.set_xlabel('RMSE score')\n",
    "ax.set_ylabel('')\n",
    "ax.grid(True)\n",
    "ax.set_axisbelow(True)"
   ]
  },
  {
   "cell_type": "markdown",
   "id": "e79a2c7a",
   "metadata": {},
   "source": [
    "***NOVELTY MEAN POPULARITY RANK SCORES***"
   ]
  },
  {
   "cell_type": "markdown",
   "id": "65f6b107",
   "metadata": {},
   "source": [
    "Merge user and book data frame to include the 'title_without_series' column in the user dataframe. This will be important in a few steps."
   ]
  },
  {
   "cell_type": "code",
   "execution_count": 26,
   "id": "19449a9d",
   "metadata": {},
   "outputs": [],
   "source": [
    "# Merge user_df with book_table to get book titles\n",
    "user_df_with_titles = pd.merge(user_df, book_df[['book_id', 'title_without_series']], on='book_id', how='left')"
   ]
  },
  {
   "cell_type": "markdown",
   "id": "26ade7b4",
   "metadata": {},
   "source": [
    "Create the Popularity Dataframe by grouping unique combinations of book_id and title_without_series combinations and conunting their occurrences in the user dataframe."
   ]
  },
  {
   "cell_type": "code",
   "execution_count": 27,
   "id": "e6443a8a",
   "metadata": {},
   "outputs": [],
   "source": [
    "# Count occurrences of each item in the reviews\n",
    "item_popularity_df = user_df_with_titles.groupby(['book_id', 'title_without_series']).size().reset_index(name='popularity')"
   ]
  },
  {
   "cell_type": "markdown",
   "id": "54106662",
   "metadata": {},
   "source": [
    "Now the decision of including the title comes in play. Since the dataset contains multiple entries with different ID's concerning the same book (this can be a result of different prints or editions) one can not just look up the popularity of the mentioned ID but has to include the popularity of other editions. Because of that, the dataframe is again grouped by the title and the popularity is summed up."
   ]
  },
  {
   "cell_type": "code",
   "execution_count": 39,
   "id": "7ee9144e",
   "metadata": {},
   "outputs": [],
   "source": [
    "# Aggregate popularity scores based on book title\n",
    "aggregated_popularity_df = item_popularity_df.groupby('title_without_series')['popularity'].sum().reset_index()\n",
    "aggregated_popularity_df['popularity_rank'] = aggregated_popularity_df['popularity'].rank(ascending=False)"
   ]
  },
  {
   "cell_type": "markdown",
   "id": "465163e9",
   "metadata": {},
   "source": [
    "Read the saved recommendations and rename specific columns to match the join in a few steps. The generating_rec_lists.ipynb file has to be executed first and the paths have to be adjusted to point at the generated csv files."
   ]
  },
  {
   "cell_type": "code",
   "execution_count": 40,
   "id": "cc74b3e3",
   "metadata": {},
   "outputs": [],
   "source": [
    "recs_ii_df = pd.read_csv(os.path.join(BASE_DIR, '../recs_ii.csv'), index_col='Unnamed: 0')\n",
    "recs_ii_df = recs_ii_df.rename(columns={'item': 'book_id'})\n",
    "recs_uu_df = pd.read_csv(os.path.join(BASE_DIR, '../recs_uu.csv'), index_col='Unnamed: 0')\n",
    "recs_uu_df = recs_uu_df.rename(columns={'item': 'book_id'})\n",
    "recs_als_df = pd.read_csv(os.path.join(BASE_DIR, '../recs_als.csv'), index_col='Unnamed: 0')\n",
    "recs_als_df = recs_als_df.rename(columns={'item': 'book_id'})"
   ]
  },
  {
   "cell_type": "markdown",
   "id": "f1dcc2fa",
   "metadata": {},
   "source": [
    "Merge the recommendations with the book frame to also have access to the book title"
   ]
  },
  {
   "cell_type": "code",
   "execution_count": 41,
   "id": "4f0b7d96",
   "metadata": {},
   "outputs": [],
   "source": [
    "recommendations_ii_with_title = pd.merge(recs_ii_df, book_df[['book_id', 'title_without_series']], on='book_id', how='left')\n",
    "recommendations_uu_with_title = pd.merge(recs_uu_df, book_df[['book_id', 'title_without_series']], on='book_id', how='left')\n",
    "recommendations_als_with_title = pd.merge(recs_als_df, book_df[['book_id', 'title_without_series']], on='book_id', how='left')"
   ]
  },
  {
   "cell_type": "markdown",
   "id": "6701fd08",
   "metadata": {},
   "source": [
    "Merge the recommendations containing the titles witht the aggregated popularity on the book title"
   ]
  },
  {
   "cell_type": "code",
   "execution_count": 46,
   "id": "6bdecc8d",
   "metadata": {},
   "outputs": [],
   "source": [
    "# Merge with popularity to get popularity ranks for recommended items\n",
    "recommendations_ii_with_rank = pd.merge(recommendations_ii_with_title, aggregated_popularity_df, on='title_without_series', how='left')\n",
    "recommendations_uu_with_rank = pd.merge(recommendations_uu_with_title, aggregated_popularity_df, on='title_without_series', how='left')\n",
    "recommendations_als_with_rank = pd.merge(recommendations_als_with_title, aggregated_popularity_df, on='title_without_series', how='left')"
   ]
  },
  {
   "cell_type": "markdown",
   "id": "516960ef",
   "metadata": {},
   "source": [
    "For all three recommendation lists, calculate the mean popularity rank"
   ]
  },
  {
   "cell_type": "code",
   "execution_count": 43,
   "id": "99954e87",
   "metadata": {},
   "outputs": [],
   "source": [
    "# Calculate mean popularity rank\n",
    "mean_popularity_rank_ii = recommendations_ii_with_rank['popularity_rank'].mean()\n",
    "mean_popularity_rank_uu = recommendations_uu_with_rank['popularity_rank'].mean()\n",
    "mean_popularity_rank_als = recommendations_als_with_rank['popularity_rank'].mean()"
   ]
  },
  {
   "cell_type": "markdown",
   "id": "fbfac06c",
   "metadata": {},
   "source": [
    "Create a dataframe with the results and write a csv file"
   ]
  },
  {
   "cell_type": "code",
   "execution_count": 44,
   "id": "af7e1657",
   "metadata": {},
   "outputs": [],
   "source": [
    "MeanPopRank_df = pd.DataFrame({'Algorithm' : ['ItemItem', 'UserUser', 'ALS'],\n",
    "                 'Mean Pop Rank Score' : [mean_popularity_rank_ii, mean_popularity_rank_uu, mean_popularity_rank_als]})\n",
    "MeanPopRank_df.to_csv('MeanPopRank.csv', index=False)"
   ]
  },
  {
   "cell_type": "code",
   "execution_count": 45,
   "id": "b9fe07f5",
   "metadata": {},
   "outputs": [
    {
     "data": {
      "image/png": "[encoded data removed]",
      "text/plain": [
       "<Figure size 640x480 with 1 Axes>"
      ]
     },
     "metadata": {},
     "output_type": "display_data"
    }
   ],
   "source": [
    "ax = MeanPopRank_df.plot(kind='barh', legend=False, y='Mean Pop Rank Score', x='Algorithm')\n",
    "ax.set_xlabel('Mean popularity rank')\n",
    "ax.set_ylabel('')\n",
    "ax.grid(True)\n",
    "ax.set_axisbelow(True)"
   ]
  },
  {
   "cell_type": "markdown",
   "id": "0063d466",
   "metadata": {},
   "source": [
    "***DIVERSITY INTRA-LIST SIMILARITY***"
   ]
  },
  {
   "cell_type": "markdown",
   "id": "5116232c",
   "metadata": {},
   "source": [
    "You will need the data files (glmer.csv, metadata.json) available in the book-genome.zip from https://grouplens.org/datasets/book-genome/. Adjust the paths accordingly"
   ]
  },
  {
   "cell_type": "code",
   "execution_count": 56,
   "id": "93926a45",
   "metadata": {},
   "outputs": [],
   "source": [
    "tag_score_df = pd.read_csv(os.path.join(BASE_DIR, 'glmer.csv'))\n",
    "metadata_books = pd.read_json(os.path.join(BASE_DIR, 'metadata.json'), lines=True)\n",
    "metadata_books = metadata_books.rename(columns={'title': 'title_without_series'})"
   ]
  },
  {
   "cell_type": "markdown",
   "id": "b6b1ef39",
   "metadata": {},
   "source": [
    "Create a pivot table from the data and fill all missing entries with zeros"
   ]
  },
  {
   "cell_type": "code",
   "execution_count": 48,
   "id": "590b20f2",
   "metadata": {},
   "outputs": [],
   "source": [
    "# Pivot the DataFrame to get the matrix form\n",
    "tag_matrix = tag_score_df.pivot(index='item_id', columns='tag', values='score')\n",
    "\n",
    "# Fill NaN values with 0 (assuming NaN means no score for that tag)\n",
    "tag_matrix = tag_matrix.fillna(0)\n",
    "tag_matrix = tag_matrix.reset_index()\n",
    "tag_matrix = pd.merge(tag_matrix, metadata_books[['title_without_series', 'item_id']], on='item_id', how='left')\n",
    "\n",
    "columns = tag_matrix.columns.tolist()\n",
    "columns = ['title_without_series'] + [col for col in columns if col != 'title_without_series']\n",
    "tag_matrix = tag_matrix[columns]"
   ]
  },
  {
   "cell_type": "code",
   "execution_count": 49,
   "id": "ccdf78ed",
   "metadata": {},
   "outputs": [],
   "source": [
    "tag_columns = tag_matrix.columns[2:]\n",
    "tag_columns = tag_columns.tolist()"
   ]
  },
  {
   "cell_type": "markdown",
   "id": "5a8eba53",
   "metadata": {},
   "source": [
    "Merge the pivot table with the recommendations on the title"
   ]
  },
  {
   "cell_type": "code",
   "execution_count": 50,
   "id": "6e329a09",
   "metadata": {},
   "outputs": [],
   "source": [
    "tag_ii = pd.merge(recommendations_ii_with_title, tag_matrix, on='title_without_series', how='left')\n",
    "tag_ii.fillna(0, inplace=True)\n",
    "tag_uu = pd.merge(recommendations_uu_with_title, tag_matrix, on='title_without_series', how='left')\n",
    "tag_uu.fillna(0, inplace=True)\n",
    "tag_als = pd.merge(recommendations_als_with_title, tag_matrix, on='title_without_series', how='left')\n",
    "tag_als.fillna(0, inplace=True)"
   ]
  },
  {
   "cell_type": "markdown",
   "id": "c2424aad",
   "metadata": {},
   "source": [
    "Calcualte the list similarity for all recommendation lists"
   ]
  },
  {
   "cell_type": "code",
   "execution_count": 51,
   "id": "290ae4b4",
   "metadata": {},
   "outputs": [
    {
     "name": "stdout",
     "output_type": "stream",
     "text": [
      "Intra-list Similarity: 0.0827080584825616\n"
     ]
    }
   ],
   "source": [
    "tag_ii = tag_ii[tag_columns]\n",
    "# Calculate cosine similarity matrix\n",
    "similarity_matrix_ii = cosine_similarity(tag_ii)\n",
    "\n",
    "# Create a dataframe from the similarity matrix\n",
    "similarity_df_ii = pd.DataFrame(similarity_matrix_ii, columns=tag_ii.index, index=tag_ii.index)\n",
    "\n",
    "# Calculate the mean intra-list similarity\n",
    "intra_list_similarity_ii = similarity_df_ii.mean().mean()\n",
    "\n",
    "print(f\"Intra-list Similarity: {intra_list_similarity_ii}\")"
   ]
  },
  {
   "cell_type": "code",
   "execution_count": 52,
   "id": "be547ec1",
   "metadata": {},
   "outputs": [
    {
     "name": "stdout",
     "output_type": "stream",
     "text": [
      "Intra-list Similarity: 0.13995801573927563\n"
     ]
    }
   ],
   "source": [
    "tag_uu = tag_uu[tag_columns]\n",
    "# Calculate cosine similarity matrix\n",
    "similarity_matrix_uu = cosine_similarity(tag_uu)\n",
    "\n",
    "# Create a dataframe from the similarity matrix\n",
    "similarity_df_uu = pd.DataFrame(similarity_matrix_uu, columns=tag_uu.index, index=tag_uu.index)\n",
    "\n",
    "# Calculate the mean intra-list similarity\n",
    "intra_list_similarity_uu = similarity_df_uu.mean().mean()\n",
    "\n",
    "print(f\"Intra-list Similarity: {intra_list_similarity_uu}\")"
   ]
  },
  {
   "cell_type": "code",
   "execution_count": 53,
   "id": "68813448",
   "metadata": {},
   "outputs": [
    {
     "name": "stdout",
     "output_type": "stream",
     "text": [
      "Intra-list Similarity: 0.13704973872813703\n"
     ]
    }
   ],
   "source": [
    "tag_als = tag_als[tag_columns]\n",
    "# Calculate cosine similarity matrix\n",
    "similarity_matrix_als = cosine_similarity(tag_als)\n",
    "\n",
    "# Create a dataframe from the similarity matrix\n",
    "similarity_df_als = pd.DataFrame(similarity_matrix_als, columns=tag_als.index, index=tag_als.index)\n",
    "\n",
    "# Calculate the mean intra-list similarity\n",
    "intra_list_similarity_als = similarity_df_als.mean().mean()\n",
    "\n",
    "print(f\"Intra-list Similarity: {intra_list_similarity_als}\")"
   ]
  },
  {
   "cell_type": "code",
   "execution_count": 54,
   "id": "c1a3f6cd",
   "metadata": {},
   "outputs": [],
   "source": [
    "Intra_list_similarity_df = pd.DataFrame({'Algorithm' : ['ItemItem', 'UserUser', 'ALS'],\n",
    "                 'Intra-list Similarity' : [intra_list_similarity_ii, intra_list_similarity_uu, intra_list_similarity_als]})\n",
    "Intra_list_similarity_df.to_csv('IntraListSimilarity.csv', index=False)"
   ]
  },
  {
   "cell_type": "code",
   "execution_count": 55,
   "id": "5bd7aa9b",
   "metadata": {},
   "outputs": [
    {
     "data": {
      "image/png": "[encoded data removed]",
      "text/plain": [
       "<Figure size 640x480 with 1 Axes>"
      ]
     },
     "metadata": {},
     "output_type": "display_data"
    }
   ],
   "source": [
    "ax = Intra_list_similarity_df.plot(kind='barh', legend=False, y='Intra-list Similarity', x='Algorithm')\n",
    "ax.set_xlabel('Intra-list Similarity')\n",
    "ax.set_ylabel('')\n",
    "ax.grid(True)\n",
    "ax.set_axisbelow(True)"
   ]
  }
 ],
 "metadata": {
  "kernelspec": {
   "display_name": "Python 3 (ipykernel)",
   "language": "python",
   "name": "python3"
  },
  "language_info": {
   "codemirror_mode": {
    "name": "ipython",
    "version": 3
   },
   "file_extension": ".py",
   "mimetype": "text/x-python",
   "name": "python",
   "nbconvert_exporter": "python",
   "pygments_lexer": "ipython3",
   "version": "3.10.12"
  }
 },
 "nbformat": 4,
 "nbformat_minor": 5
}
