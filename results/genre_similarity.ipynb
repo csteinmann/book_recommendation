{
 "cells": [
  {
   "cell_type": "code",
   "execution_count": 108,
   "id": "initial_id",
   "metadata": {
    "ExecuteTime": {
     "end_time": "2023-11-27T21:19:13.661748900Z",
     "start_time": "2023-11-27T21:19:13.647739100Z"
    }
   },
   "outputs": [],
   "source": [
    "import pandas as pd\n",
    "from ast import literal_eval\n",
    "from sklearn.feature_extraction.text import TfidfVectorizer\n",
    "from sklearn.metrics.pairwise import cosine_similarity\n",
    "from sklearn.utils import resample\n"
   ]
  },
  {
   "cell_type": "code",
   "execution_count": 109,
   "id": "fc8d065f9468e908",
   "metadata": {
    "collapsed": false,
    "ExecuteTime": {
     "end_time": "2023-11-27T21:19:15.189126500Z",
     "start_time": "2023-11-27T21:19:14.199421800Z"
    }
   },
   "outputs": [],
   "source": [
    "csv_file_path = '../data/goodreads_genre_data.csv'\n",
    "df = pd.read_csv(csv_file_path)"
   ]
  },
  {
   "cell_type": "code",
   "execution_count": 110,
   "id": "8086b0309795c857",
   "metadata": {
    "collapsed": false,
    "ExecuteTime": {
     "end_time": "2023-11-27T21:19:16.472882700Z",
     "start_time": "2023-11-27T21:19:15.800073500Z"
    }
   },
   "outputs": [],
   "source": [
    "df['Genres'] = df['Genres'].apply(literal_eval)\n",
    "df['genre'] = df['Genres'].apply(lambda x: x[0] if x else None)"
   ]
  },
  {
   "cell_type": "code",
   "execution_count": 111,
   "outputs": [],
   "source": [
    "df = df[['genre', 'Description']]"
   ],
   "metadata": {
    "collapsed": false,
    "ExecuteTime": {
     "end_time": "2023-11-27T21:19:17.063363400Z",
     "start_time": "2023-11-27T21:19:17.032040Z"
    }
   },
   "id": "7bb61dc74473c93b"
  },
  {
   "cell_type": "code",
   "execution_count": 112,
   "outputs": [],
   "source": [
    "# Convert the 'Genre' column to lowercase\n",
    "df['genre'] = df['genre'].str.lower()"
   ],
   "metadata": {
    "collapsed": false,
    "ExecuteTime": {
     "end_time": "2023-11-27T21:19:17.703114500Z",
     "start_time": "2023-11-27T21:19:17.686972600Z"
    }
   },
   "id": "60a4c43e9d7ed18c"
  },
  {
   "cell_type": "code",
   "execution_count": 113,
   "outputs": [],
   "source": [
    "# Replace NaN values in the 'Description' column with an empty string\n",
    "df['Description'] = df['Description'].fillna('')"
   ],
   "metadata": {
    "collapsed": false,
    "ExecuteTime": {
     "end_time": "2023-11-27T21:19:18.387166200Z",
     "start_time": "2023-11-27T21:19:18.371525200Z"
    }
   },
   "id": "3e2ddf417b42474c"
  },
  {
   "cell_type": "code",
   "execution_count": 114,
   "outputs": [],
   "source": [
    "# Define genre combinations\n",
    "genre_mapping = {\n",
    "    'religion': ['prayer', 'theology', 'catholic', 'christianity', 'islam', 'spirituality', 'chrisitian', 'religion'],\n",
    "    'self help': ['self help', 'personal development', 'productivity'],\n",
    "    'cookbooks': ['cooking', 'vegetarian', 'food', 'cookbook'],\n",
    "    'biography': ['biography memoir', 'autobiography', 'memoir', 'biography'],\n",
    "    'romance': ['love inspired', 'romance'],\n",
    "    'history': ['historical', 'history', 'historical fiction'],\n",
    "    'fantasy': ['fantasy', 'epic fantasy'],\n",
    "    'health': ['health', 'medicine', 'medical', 'mental health'],\n",
    "    'mystery': ['crime', 'mystery thriller', 'thriller', 'mystery'],\n",
    "    'classics': ['classics', 'literature']\n",
    "}\n",
    "\n",
    "# Combine genres based on the mapping\n",
    "for new_genre, old_genres in genre_mapping.items():\n",
    "    df.loc[df['genre'].isin(old_genres), 'genre'] = new_genre"
   ],
   "metadata": {
    "collapsed": false,
    "ExecuteTime": {
     "end_time": "2023-11-27T21:19:19.580425400Z",
     "start_time": "2023-11-27T21:19:19.466118600Z"
    }
   },
   "id": "c938e773024dd612"
  },
  {
   "cell_type": "code",
   "execution_count": 115,
   "outputs": [],
   "source": [
    "# Define the list of genres to consider\n",
    "desired_genres = ['mystery', 'history', 'biography', 'romance', 'cookbooks', 'science fiction', 'fantasy',\n",
    "                  'classics', 'health', 'religion', 'self help', 'true crime', 'politics', 'business', 'poetry',\n",
    "                  'westerns', 'fiction', 'nonfiction']\n",
    "\n",
    "# Filter the DataFrame to include only desired genres\n",
    "df = df[df['genre'].isin(desired_genres)]"
   ],
   "metadata": {
    "collapsed": false,
    "ExecuteTime": {
     "end_time": "2023-11-27T21:19:20.686167200Z",
     "start_time": "2023-11-27T21:19:20.638779300Z"
    }
   },
   "id": "a8b40b83e30e7aa1"
  },
  {
   "cell_type": "code",
   "execution_count": 116,
   "outputs": [],
   "source": [
    "# Determine the minimum number of samples among the selected genres\n",
    "min_sample_size = df['genre'].value_counts().min()"
   ],
   "metadata": {
    "collapsed": false,
    "ExecuteTime": {
     "end_time": "2023-11-27T21:19:21.477141300Z",
     "start_time": "2023-11-27T21:19:21.445563900Z"
    }
   },
   "id": "f0a110b29b7808e4"
  },
  {
   "cell_type": "code",
   "execution_count": 117,
   "outputs": [],
   "source": [
    "# Resample each genre to have the minimum sample size\n",
    "resampled_dfs = []\n",
    "for genre in desired_genres:\n",
    "    genre_df = df[df['genre'] == genre]\n",
    "    resampled_df = resample(genre_df, replace=False, n_samples=min_sample_size, random_state=42)\n",
    "    resampled_dfs.append(resampled_df)"
   ],
   "metadata": {
    "collapsed": false,
    "ExecuteTime": {
     "end_time": "2023-11-27T21:19:22.880942400Z",
     "start_time": "2023-11-27T21:19:22.783883400Z"
    }
   },
   "id": "784192550f672413"
  },
  {
   "cell_type": "code",
   "execution_count": 118,
   "outputs": [],
   "source": [
    "# Combine the resampled DataFrames back into a single DataFrame\n",
    "df_resampled = pd.concat(resampled_dfs)"
   ],
   "metadata": {
    "collapsed": false,
    "ExecuteTime": {
     "end_time": "2023-11-27T21:19:23.768380700Z",
     "start_time": "2023-11-27T21:19:23.748914100Z"
    }
   },
   "id": "a4c165805b699532"
  },
  {
   "cell_type": "code",
   "execution_count": 119,
   "outputs": [],
   "source": [
    "# Extract unique genres from the 'Genre' column\n",
    "unique_genres_resampled = df_resampled['genre'].unique()"
   ],
   "metadata": {
    "collapsed": false,
    "ExecuteTime": {
     "end_time": "2023-11-27T21:19:24.465985200Z",
     "start_time": "2023-11-27T21:19:24.443334800Z"
    }
   },
   "id": "bf4966086e0fd41b"
  },
  {
   "cell_type": "code",
   "execution_count": 120,
   "outputs": [],
   "source": [
    "# Create a dictionary to store similarities for each unique genre\n",
    "genre_similarities_resampled = {}"
   ],
   "metadata": {
    "collapsed": false,
    "ExecuteTime": {
     "end_time": "2023-11-27T21:19:25.289039500Z",
     "start_time": "2023-11-27T21:19:25.246753100Z"
    }
   },
   "id": "1a4da04cf8e7c2d3"
  },
  {
   "cell_type": "code",
   "execution_count": 122,
   "outputs": [],
   "source": [
    "# Loop through each unique genre and calculate similarity with science fiction\n",
    "for genre in unique_genres_resampled:\n",
    "    # Extract descriptions for the current genre and science fiction\n",
    "    genre_desc = df_resampled[df_resampled['genre'] == genre]['Description'].values\n",
    "    sci_fi_desc = df_resampled[df_resampled['genre'] == 'science fiction']['Description'].values\n",
    "\n",
    "    # Combine descriptions into a list for vectorization\n",
    "    all_descriptions = list(genre_desc) + list(sci_fi_desc)\n",
    "\n",
    "    # Use TF-IDF vectorizer to convert descriptions into numerical vectors\n",
    "    vectorizer = TfidfVectorizer()\n",
    "    tfidf_matrix = vectorizer.fit_transform(all_descriptions)\n",
    "\n",
    "    # Calculate cosine similarity between the genre and science fiction\n",
    "    similarity_scores = cosine_similarity(tfidf_matrix)\n",
    "\n",
    "    # Extract the similarity score for the genre of interest\n",
    "    genre_similarity = similarity_scores[0, len(genre_desc)]\n",
    "\n",
    "    # Store the similarity score in the dictionary\n",
    "    genre_similarities_resampled[genre] = genre_similarity"
   ],
   "metadata": {
    "collapsed": false,
    "ExecuteTime": {
     "end_time": "2023-11-27T21:19:33.940445800Z",
     "start_time": "2023-11-27T21:19:33.652324600Z"
    }
   },
   "id": "583a5c7fa3035f1"
  },
  {
   "cell_type": "code",
   "execution_count": 123,
   "outputs": [],
   "source": [
    "# Convert the dictionary to a DataFrame for better visualization\n",
    "similarities_df_resampled = pd.DataFrame(list(genre_similarities_resampled.items()), columns=['Genre', 'Similarity to Sci-Fi'])"
   ],
   "metadata": {
    "collapsed": false,
    "ExecuteTime": {
     "end_time": "2023-11-27T21:19:34.908319800Z",
     "start_time": "2023-11-27T21:19:34.888234200Z"
    }
   },
   "id": "ebdaeb46dcb9f3b8"
  },
  {
   "cell_type": "code",
   "execution_count": 127,
   "outputs": [],
   "source": [
    "similarities_df_resampled.to_csv('../data/genre_similarities.csv', index=False)"
   ],
   "metadata": {
    "collapsed": false,
    "ExecuteTime": {
     "end_time": "2023-11-27T21:25:52.493235400Z",
     "start_time": "2023-11-27T21:25:52.461630500Z"
    }
   },
   "id": "23fe75054e165ee3"
  },
  {
   "cell_type": "code",
   "execution_count": null,
   "outputs": [],
   "source": [],
   "metadata": {
    "collapsed": false,
    "ExecuteTime": {
     "start_time": "2023-11-27T20:29:53.043470600Z"
    }
   },
   "id": "83a9100f14aa37ad"
  },
  {
   "cell_type": "code",
   "execution_count": null,
   "outputs": [],
   "source": [],
   "metadata": {
    "collapsed": false,
    "ExecuteTime": {
     "start_time": "2023-11-27T20:29:53.059100600Z"
    }
   },
   "id": "26ef84034ad34754"
  },
  {
   "cell_type": "code",
   "execution_count": 80,
   "outputs": [],
   "source": [],
   "metadata": {
    "collapsed": false,
    "ExecuteTime": {
     "end_time": "2023-11-27T20:29:53.559655500Z",
     "start_time": "2023-11-27T20:29:53.063793700Z"
    }
   },
   "id": "e621c15cda853caf"
  },
  {
   "cell_type": "code",
   "execution_count": 80,
   "outputs": [],
   "source": [],
   "metadata": {
    "collapsed": false,
    "ExecuteTime": {
     "end_time": "2023-11-27T20:29:53.559655500Z",
     "start_time": "2023-11-27T20:29:53.090441900Z"
    }
   },
   "id": "2852c0fe6e9aafe0"
  },
  {
   "cell_type": "code",
   "execution_count": 80,
   "outputs": [],
   "source": [],
   "metadata": {
    "collapsed": false,
    "ExecuteTime": {
     "end_time": "2023-11-27T20:29:53.606534800Z",
     "start_time": "2023-11-27T20:29:53.140614700Z"
    }
   },
   "id": "6113077762a8aaeb"
  },
  {
   "cell_type": "code",
   "execution_count": 80,
   "outputs": [],
   "source": [],
   "metadata": {
    "collapsed": false,
    "ExecuteTime": {
     "end_time": "2023-11-27T20:29:53.700282500Z",
     "start_time": "2023-11-27T20:29:53.172864200Z"
    }
   },
   "id": "ef6e6a43f9084d05"
  },
  {
   "cell_type": "code",
   "execution_count": 80,
   "outputs": [],
   "source": [],
   "metadata": {
    "collapsed": false,
    "ExecuteTime": {
     "end_time": "2023-11-27T20:29:53.715911600Z",
     "start_time": "2023-11-27T20:29:53.218126100Z"
    }
   },
   "id": "877b832a0a8064e8"
  },
  {
   "cell_type": "code",
   "execution_count": 80,
   "outputs": [],
   "source": [],
   "metadata": {
    "collapsed": false,
    "ExecuteTime": {
     "end_time": "2023-11-27T20:29:53.762792800Z",
     "start_time": "2023-11-27T20:29:53.249400Z"
    }
   },
   "id": "1773f29efdd73fff"
  },
  {
   "cell_type": "code",
   "execution_count": 80,
   "outputs": [],
   "source": [],
   "metadata": {
    "collapsed": false,
    "ExecuteTime": {
     "end_time": "2023-11-27T20:29:53.762792800Z",
     "start_time": "2023-11-27T20:29:53.284735900Z"
    }
   },
   "id": "bea1ddf444cce4a1"
  },
  {
   "cell_type": "code",
   "execution_count": 80,
   "outputs": [],
   "source": [],
   "metadata": {
    "collapsed": false,
    "ExecuteTime": {
     "end_time": "2023-11-27T20:29:53.778402400Z",
     "start_time": "2023-11-27T20:29:53.328042400Z"
    }
   },
   "id": "e20afd7246ab5feb"
  },
  {
   "cell_type": "code",
   "execution_count": 80,
   "outputs": [],
   "source": [],
   "metadata": {
    "collapsed": false,
    "ExecuteTime": {
     "end_time": "2023-11-27T20:29:53.778402400Z",
     "start_time": "2023-11-27T20:29:53.395150200Z"
    }
   },
   "id": "c7d94aa26256cacb"
  },
  {
   "cell_type": "code",
   "execution_count": 80,
   "outputs": [],
   "source": [],
   "metadata": {
    "collapsed": false,
    "ExecuteTime": {
     "end_time": "2023-11-27T20:29:53.794028200Z",
     "start_time": "2023-11-27T20:29:53.439332900Z"
    }
   },
   "id": "a235ef08b56ebda0"
  },
  {
   "cell_type": "code",
   "execution_count": 80,
   "outputs": [],
   "source": [],
   "metadata": {
    "collapsed": false,
    "ExecuteTime": {
     "end_time": "2023-11-27T20:29:53.794028200Z",
     "start_time": "2023-11-27T20:29:53.501005800Z"
    }
   },
   "id": "83cb78007532f290"
  },
  {
   "cell_type": "code",
   "execution_count": 80,
   "outputs": [],
   "source": [],
   "metadata": {
    "collapsed": false,
    "ExecuteTime": {
     "end_time": "2023-11-27T20:29:53.825336400Z",
     "start_time": "2023-11-27T20:29:53.539008700Z"
    }
   },
   "id": "d405d324e000bcf3"
  },
  {
   "cell_type": "code",
   "execution_count": null,
   "outputs": [],
   "source": [],
   "metadata": {
    "collapsed": false
   },
   "id": "b031f664567969e2"
  }
 ],
 "metadata": {
  "kernelspec": {
   "display_name": "Python 3 (ipykernel)",
   "language": "python",
   "name": "python3"
  },
  "language_info": {
   "codemirror_mode": {
    "name": "ipython",
    "version": 3
   },
   "file_extension": ".py",
   "mimetype": "text/x-python",
   "name": "python",
   "nbconvert_exporter": "python",
   "pygments_lexer": "ipython3",
   "version": "3.11.4"
  }
 },
 "nbformat": 4,
 "nbformat_minor": 5
}
