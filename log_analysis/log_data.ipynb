{
 "cells": [
  {
   "cell_type": "markdown",
   "id": "9948b799",
   "metadata": {},
   "source": [
    "***File to load and analyse the collected Log Data***"
   ]
  },
  {
   "cell_type": "code",
   "execution_count": 2,
   "id": "e9f6649f",
   "metadata": {},
   "outputs": [],
   "source": [
    "import pandas as pd\n",
    "import os\n",
    "from glob import glob\n",
    "import re\n",
    "import pathlib\n",
    "\n",
    "BASE_DIR = pathlib.Path().resolve()\n",
    "file_paths = glob(os.path.join(BASE_DIR, 'logs\\\\', '*.tsv.gz'))"
   ]
  },
  {
   "cell_type": "markdown",
   "id": "cff71e5a",
   "metadata": {},
   "source": [
    "***Log Data Loading*** <br>\n",
    "Loads all files in the specified location into one dataframe."
   ]
  },
  {
   "cell_type": "code",
   "execution_count": 89,
   "id": "8caca469",
   "metadata": {
    "scrolled": true
   },
   "outputs": [
    {
     "name": "stdout",
     "output_type": "stream",
     "text": [
      "Finished concatenating file: C:\\Users\\Shadow\\ShadowDrive\\book_recommendation_goodreads\\log_analysis\\logs\\2023-10-10-12.tsv.gz\n",
      "Finished concatenating file: C:\\Users\\Shadow\\ShadowDrive\\book_recommendation_goodreads\\log_analysis\\logs\\2023-10-10-13.tsv.gz\n",
      "Finished concatenating file: C:\\Users\\Shadow\\ShadowDrive\\book_recommendation_goodreads\\log_analysis\\logs\\2023-10-10-14.tsv.gz\n",
      "Finished concatenating file: C:\\Users\\Shadow\\ShadowDrive\\book_recommendation_goodreads\\log_analysis\\logs\\2023-10-10-15.tsv.gz\n",
      "Finished concatenating file: C:\\Users\\Shadow\\ShadowDrive\\book_recommendation_goodreads\\log_analysis\\logs\\2023-10-10-16.tsv.gz\n",
      "Finished concatenating file: C:\\Users\\Shadow\\ShadowDrive\\book_recommendation_goodreads\\log_analysis\\logs\\2023-10-10-17.tsv.gz\n",
      "Finished concatenating file: C:\\Users\\Shadow\\ShadowDrive\\book_recommendation_goodreads\\log_analysis\\logs\\2023-10-10-18.tsv.gz\n",
      "Finished concatenating file: C:\\Users\\Shadow\\ShadowDrive\\book_recommendation_goodreads\\log_analysis\\logs\\2023-10-10-19.tsv.gz\n",
      "Finished concatenating file: C:\\Users\\Shadow\\ShadowDrive\\book_recommendation_goodreads\\log_analysis\\logs\\2023-10-10-20.tsv.gz\n",
      "Finished concatenating file: C:\\Users\\Shadow\\ShadowDrive\\book_recommendation_goodreads\\log_analysis\\logs\\2023-10-10-22.tsv.gz\n",
      "Finished concatenating file: C:\\Users\\Shadow\\ShadowDrive\\book_recommendation_goodreads\\log_analysis\\logs\\2023-10-11-00.tsv.gz\n",
      "Finished concatenating file: C:\\Users\\Shadow\\ShadowDrive\\book_recommendation_goodreads\\log_analysis\\logs\\2023-10-11-01.tsv.gz\n",
      "Finished concatenating file: C:\\Users\\Shadow\\ShadowDrive\\book_recommendation_goodreads\\log_analysis\\logs\\2023-10-11-02.tsv.gz\n",
      "Finished concatenating file: C:\\Users\\Shadow\\ShadowDrive\\book_recommendation_goodreads\\log_analysis\\logs\\2023-10-11-08.tsv.gz\n",
      "Finished concatenating file: C:\\Users\\Shadow\\ShadowDrive\\book_recommendation_goodreads\\log_analysis\\logs\\2023-10-11-09.tsv.gz\n",
      "Finished concatenating file: C:\\Users\\Shadow\\ShadowDrive\\book_recommendation_goodreads\\log_analysis\\logs\\2023-10-11-10.tsv.gz\n",
      "Finished concatenating file: C:\\Users\\Shadow\\ShadowDrive\\book_recommendation_goodreads\\log_analysis\\logs\\2023-10-11-11.tsv.gz\n",
      "Finished concatenating file: C:\\Users\\Shadow\\ShadowDrive\\book_recommendation_goodreads\\log_analysis\\logs\\2023-10-11-15.tsv.gz\n",
      "Finished concatenating file: C:\\Users\\Shadow\\ShadowDrive\\book_recommendation_goodreads\\log_analysis\\logs\\2023-10-11-17.tsv.gz\n",
      "Finished concatenating file: C:\\Users\\Shadow\\ShadowDrive\\book_recommendation_goodreads\\log_analysis\\logs\\2023-10-11-18.tsv.gz\n",
      "Finished concatenating file: C:\\Users\\Shadow\\ShadowDrive\\book_recommendation_goodreads\\log_analysis\\logs\\2023-10-11-19.tsv.gz\n",
      "Finished concatenating file: C:\\Users\\Shadow\\ShadowDrive\\book_recommendation_goodreads\\log_analysis\\logs\\2023-10-11-20.tsv.gz\n",
      "Finished concatenating file: C:\\Users\\Shadow\\ShadowDrive\\book_recommendation_goodreads\\log_analysis\\logs\\2023-10-11-23.tsv.gz\n",
      "Finished concatenating file: C:\\Users\\Shadow\\ShadowDrive\\book_recommendation_goodreads\\log_analysis\\logs\\2023-10-12-01.tsv.gz\n",
      "Finished concatenating file: C:\\Users\\Shadow\\ShadowDrive\\book_recommendation_goodreads\\log_analysis\\logs\\2023-10-12-02.tsv.gz\n",
      "Finished concatenating file: C:\\Users\\Shadow\\ShadowDrive\\book_recommendation_goodreads\\log_analysis\\logs\\2023-10-12-03.tsv.gz\n",
      "Finished concatenating file: C:\\Users\\Shadow\\ShadowDrive\\book_recommendation_goodreads\\log_analysis\\logs\\2023-10-12-05.tsv.gz\n",
      "Finished concatenating file: C:\\Users\\Shadow\\ShadowDrive\\book_recommendation_goodreads\\log_analysis\\logs\\2023-10-12-10.tsv.gz\n",
      "Finished concatenating file: C:\\Users\\Shadow\\ShadowDrive\\book_recommendation_goodreads\\log_analysis\\logs\\2023-10-12-13.tsv.gz\n",
      "Finished concatenating file: C:\\Users\\Shadow\\ShadowDrive\\book_recommendation_goodreads\\log_analysis\\logs\\2023-10-12-14.tsv.gz\n",
      "Finished concatenating file: C:\\Users\\Shadow\\ShadowDrive\\book_recommendation_goodreads\\log_analysis\\logs\\2023-10-12-15.tsv.gz\n",
      "Finished concatenating file: C:\\Users\\Shadow\\ShadowDrive\\book_recommendation_goodreads\\log_analysis\\logs\\2023-10-12-16.tsv.gz\n",
      "Finished concatenating file: C:\\Users\\Shadow\\ShadowDrive\\book_recommendation_goodreads\\log_analysis\\logs\\2023-10-12-19.tsv.gz\n",
      "Finished concatenating file: C:\\Users\\Shadow\\ShadowDrive\\book_recommendation_goodreads\\log_analysis\\logs\\2023-10-12-20.tsv.gz\n",
      "Finished concatenating file: C:\\Users\\Shadow\\ShadowDrive\\book_recommendation_goodreads\\log_analysis\\logs\\2023-10-13-00.tsv.gz\n",
      "Finished concatenating file: C:\\Users\\Shadow\\ShadowDrive\\book_recommendation_goodreads\\log_analysis\\logs\\2023-10-13-02.tsv.gz\n",
      "Finished concatenating file: C:\\Users\\Shadow\\ShadowDrive\\book_recommendation_goodreads\\log_analysis\\logs\\2023-10-13-04.tsv.gz\n",
      "Finished concatenating file: C:\\Users\\Shadow\\ShadowDrive\\book_recommendation_goodreads\\log_analysis\\logs\\2023-10-13-11.tsv.gz\n",
      "Finished concatenating file: C:\\Users\\Shadow\\ShadowDrive\\book_recommendation_goodreads\\log_analysis\\logs\\2023-10-13-15.tsv.gz\n",
      "Finished concatenating file: C:\\Users\\Shadow\\ShadowDrive\\book_recommendation_goodreads\\log_analysis\\logs\\2023-10-13-16.tsv.gz\n",
      "Finished concatenating file: C:\\Users\\Shadow\\ShadowDrive\\book_recommendation_goodreads\\log_analysis\\logs\\2023-10-13-17.tsv.gz\n",
      "Finished concatenating file: C:\\Users\\Shadow\\ShadowDrive\\book_recommendation_goodreads\\log_analysis\\logs\\2023-10-13-18.tsv.gz\n",
      "Finished concatenating file: C:\\Users\\Shadow\\ShadowDrive\\book_recommendation_goodreads\\log_analysis\\logs\\2023-10-13-22.tsv.gz\n",
      "Finished concatenating file: C:\\Users\\Shadow\\ShadowDrive\\book_recommendation_goodreads\\log_analysis\\logs\\2023-10-14-00.tsv.gz\n",
      "Finished concatenating file: C:\\Users\\Shadow\\ShadowDrive\\book_recommendation_goodreads\\log_analysis\\logs\\2023-10-14-02.tsv.gz\n",
      "Finished concatenating file: C:\\Users\\Shadow\\ShadowDrive\\book_recommendation_goodreads\\log_analysis\\logs\\2023-10-14-03.tsv.gz\n",
      "Finished concatenating file: C:\\Users\\Shadow\\ShadowDrive\\book_recommendation_goodreads\\log_analysis\\logs\\2023-10-14-09.tsv.gz\n",
      "Finished concatenating file: C:\\Users\\Shadow\\ShadowDrive\\book_recommendation_goodreads\\log_analysis\\logs\\2023-10-14-10.tsv.gz\n",
      "Finished concatenating file: C:\\Users\\Shadow\\ShadowDrive\\book_recommendation_goodreads\\log_analysis\\logs\\2023-10-14-11.tsv.gz\n",
      "Finished concatenating file: C:\\Users\\Shadow\\ShadowDrive\\book_recommendation_goodreads\\log_analysis\\logs\\2023-10-14-13.tsv.gz\n",
      "Finished concatenating file: C:\\Users\\Shadow\\ShadowDrive\\book_recommendation_goodreads\\log_analysis\\logs\\2023-10-14-14.tsv.gz\n",
      "Finished concatenating file: C:\\Users\\Shadow\\ShadowDrive\\book_recommendation_goodreads\\log_analysis\\logs\\2023-10-14-16.tsv.gz\n",
      "Finished concatenating file: C:\\Users\\Shadow\\ShadowDrive\\book_recommendation_goodreads\\log_analysis\\logs\\2023-10-14-17.tsv.gz\n",
      "Finished concatenating file: C:\\Users\\Shadow\\ShadowDrive\\book_recommendation_goodreads\\log_analysis\\logs\\2023-10-14-20.tsv.gz\n",
      "Finished concatenating file: C:\\Users\\Shadow\\ShadowDrive\\book_recommendation_goodreads\\log_analysis\\logs\\2023-10-14-23.tsv.gz\n",
      "Finished concatenating file: C:\\Users\\Shadow\\ShadowDrive\\book_recommendation_goodreads\\log_analysis\\logs\\2023-10-15-00.tsv.gz\n",
      "Finished concatenating file: C:\\Users\\Shadow\\ShadowDrive\\book_recommendation_goodreads\\log_analysis\\logs\\2023-10-15-07.tsv.gz\n",
      "Finished concatenating file: C:\\Users\\Shadow\\ShadowDrive\\book_recommendation_goodreads\\log_analysis\\logs\\2023-10-15-08.tsv.gz\n",
      "Finished concatenating file: C:\\Users\\Shadow\\ShadowDrive\\book_recommendation_goodreads\\log_analysis\\logs\\2023-10-15-09.tsv.gz\n",
      "Finished concatenating file: C:\\Users\\Shadow\\ShadowDrive\\book_recommendation_goodreads\\log_analysis\\logs\\2023-10-15-10.tsv.gz\n",
      "Finished concatenating file: C:\\Users\\Shadow\\ShadowDrive\\book_recommendation_goodreads\\log_analysis\\logs\\2023-10-15-11.tsv.gz\n",
      "Finished concatenating file: C:\\Users\\Shadow\\ShadowDrive\\book_recommendation_goodreads\\log_analysis\\logs\\2023-10-15-14.tsv.gz\n",
      "Finished concatenating file: C:\\Users\\Shadow\\ShadowDrive\\book_recommendation_goodreads\\log_analysis\\logs\\2023-10-15-15.tsv.gz\n",
      "Finished concatenating file: C:\\Users\\Shadow\\ShadowDrive\\book_recommendation_goodreads\\log_analysis\\logs\\2023-10-15-20.tsv.gz\n",
      "Finished concatenating file: C:\\Users\\Shadow\\ShadowDrive\\book_recommendation_goodreads\\log_analysis\\logs\\2023-10-15-21.tsv.gz\n",
      "Finished concatenating file: C:\\Users\\Shadow\\ShadowDrive\\book_recommendation_goodreads\\log_analysis\\logs\\2023-10-16-02.tsv.gz\n",
      "Finished concatenating file: C:\\Users\\Shadow\\ShadowDrive\\book_recommendation_goodreads\\log_analysis\\logs\\2023-10-16-05.tsv.gz\n",
      "Finished concatenating file: C:\\Users\\Shadow\\ShadowDrive\\book_recommendation_goodreads\\log_analysis\\logs\\2023-10-16-06.tsv.gz\n",
      "Finished concatenating file: C:\\Users\\Shadow\\ShadowDrive\\book_recommendation_goodreads\\log_analysis\\logs\\2023-10-16-08.tsv.gz\n",
      "Finished concatenating file: C:\\Users\\Shadow\\ShadowDrive\\book_recommendation_goodreads\\log_analysis\\logs\\2023-10-16-09.tsv.gz\n",
      "Finished concatenating file: C:\\Users\\Shadow\\ShadowDrive\\book_recommendation_goodreads\\log_analysis\\logs\\2023-10-16-16.tsv.gz\n",
      "Finished concatenating file: C:\\Users\\Shadow\\ShadowDrive\\book_recommendation_goodreads\\log_analysis\\logs\\2023-10-16-17.tsv.gz\n",
      "Finished concatenating file: C:\\Users\\Shadow\\ShadowDrive\\book_recommendation_goodreads\\log_analysis\\logs\\2023-10-16-19.tsv.gz\n",
      "Finished concatenating file: C:\\Users\\Shadow\\ShadowDrive\\book_recommendation_goodreads\\log_analysis\\logs\\2023-10-16-20.tsv.gz\n",
      "Finished concatenating file: C:\\Users\\Shadow\\ShadowDrive\\book_recommendation_goodreads\\log_analysis\\logs\\2023-10-16-22.tsv.gz\n"
     ]
    },
    {
     "name": "stdout",
     "output_type": "stream",
     "text": [
      "Finished concatenating file: C:\\Users\\Shadow\\ShadowDrive\\book_recommendation_goodreads\\log_analysis\\logs\\2023-10-17-02.tsv.gz\n",
      "Finished concatenating file: C:\\Users\\Shadow\\ShadowDrive\\book_recommendation_goodreads\\log_analysis\\logs\\2023-10-17-03.tsv.gz\n",
      "Finished concatenating file: C:\\Users\\Shadow\\ShadowDrive\\book_recommendation_goodreads\\log_analysis\\logs\\2023-10-17-06.tsv.gz\n",
      "Finished concatenating file: C:\\Users\\Shadow\\ShadowDrive\\book_recommendation_goodreads\\log_analysis\\logs\\2023-10-17-10.tsv.gz\n",
      "Finished concatenating file: C:\\Users\\Shadow\\ShadowDrive\\book_recommendation_goodreads\\log_analysis\\logs\\2023-10-17-13.tsv.gz\n",
      "Finished concatenating file: C:\\Users\\Shadow\\ShadowDrive\\book_recommendation_goodreads\\log_analysis\\logs\\2023-10-17-17.tsv.gz\n",
      "Finished concatenating file: C:\\Users\\Shadow\\ShadowDrive\\book_recommendation_goodreads\\log_analysis\\logs\\2023-10-17-20.tsv.gz\n",
      "Finished concatenating file: C:\\Users\\Shadow\\ShadowDrive\\book_recommendation_goodreads\\log_analysis\\logs\\2023-10-18-01.tsv.gz\n",
      "Finished concatenating file: C:\\Users\\Shadow\\ShadowDrive\\book_recommendation_goodreads\\log_analysis\\logs\\2023-10-18-12.tsv.gz\n",
      "Finished concatenating file: C:\\Users\\Shadow\\ShadowDrive\\book_recommendation_goodreads\\log_analysis\\logs\\2023-10-18-14.tsv.gz\n",
      "Finished concatenating file: C:\\Users\\Shadow\\ShadowDrive\\book_recommendation_goodreads\\log_analysis\\logs\\2023-10-18-17.tsv.gz\n",
      "Finished concatenating file: C:\\Users\\Shadow\\ShadowDrive\\book_recommendation_goodreads\\log_analysis\\logs\\2023-10-18-18.tsv.gz\n",
      "Finished concatenating file: C:\\Users\\Shadow\\ShadowDrive\\book_recommendation_goodreads\\log_analysis\\logs\\2023-10-18-19.tsv.gz\n",
      "Finished concatenating file: C:\\Users\\Shadow\\ShadowDrive\\book_recommendation_goodreads\\log_analysis\\logs\\2023-10-18-20.tsv.gz\n",
      "Finished concatenating file: C:\\Users\\Shadow\\ShadowDrive\\book_recommendation_goodreads\\log_analysis\\logs\\2023-10-18-23.tsv.gz\n",
      "Finished concatenating file: C:\\Users\\Shadow\\ShadowDrive\\book_recommendation_goodreads\\log_analysis\\logs\\2023-10-19-10.tsv.gz\n",
      "Finished concatenating file: C:\\Users\\Shadow\\ShadowDrive\\book_recommendation_goodreads\\log_analysis\\logs\\2023-10-19-11.tsv.gz\n",
      "Finished concatenating file: C:\\Users\\Shadow\\ShadowDrive\\book_recommendation_goodreads\\log_analysis\\logs\\2023-10-19-12.tsv.gz\n",
      "Finished concatenating file: C:\\Users\\Shadow\\ShadowDrive\\book_recommendation_goodreads\\log_analysis\\logs\\2023-10-19-14.tsv.gz\n",
      "Finished concatenating file: C:\\Users\\Shadow\\ShadowDrive\\book_recommendation_goodreads\\log_analysis\\logs\\2023-10-19-15.tsv.gz\n",
      "Finished concatenating file: C:\\Users\\Shadow\\ShadowDrive\\book_recommendation_goodreads\\log_analysis\\logs\\2023-10-19-16.tsv.gz\n",
      "Finished concatenating file: C:\\Users\\Shadow\\ShadowDrive\\book_recommendation_goodreads\\log_analysis\\logs\\2023-10-19-20.tsv.gz\n",
      "Finished concatenating file: C:\\Users\\Shadow\\ShadowDrive\\book_recommendation_goodreads\\log_analysis\\logs\\2023-10-20-01.tsv.gz\n",
      "Finished concatenating file: C:\\Users\\Shadow\\ShadowDrive\\book_recommendation_goodreads\\log_analysis\\logs\\2023-10-20-10.tsv.gz\n",
      "Finished concatenating file: C:\\Users\\Shadow\\ShadowDrive\\book_recommendation_goodreads\\log_analysis\\logs\\2023-10-20-20.tsv.gz\n",
      "Finished concatenating file: C:\\Users\\Shadow\\ShadowDrive\\book_recommendation_goodreads\\log_analysis\\logs\\2023-10-21-00.tsv.gz\n",
      "Finished concatenating file: C:\\Users\\Shadow\\ShadowDrive\\book_recommendation_goodreads\\log_analysis\\logs\\2023-10-21-12.tsv.gz\n",
      "Finished concatenating file: C:\\Users\\Shadow\\ShadowDrive\\book_recommendation_goodreads\\log_analysis\\logs\\2023-10-21-14.tsv.gz\n",
      "Finished concatenating file: C:\\Users\\Shadow\\ShadowDrive\\book_recommendation_goodreads\\log_analysis\\logs\\2023-10-21-20.tsv.gz\n",
      "Finished concatenating file: C:\\Users\\Shadow\\ShadowDrive\\book_recommendation_goodreads\\log_analysis\\logs\\2023-10-21-21.tsv.gz\n",
      "Finished concatenating file: C:\\Users\\Shadow\\ShadowDrive\\book_recommendation_goodreads\\log_analysis\\logs\\2023-10-22-01.tsv.gz\n",
      "Finished concatenating file: C:\\Users\\Shadow\\ShadowDrive\\book_recommendation_goodreads\\log_analysis\\logs\\2023-10-22-11.tsv.gz\n",
      "Finished concatenating file: C:\\Users\\Shadow\\ShadowDrive\\book_recommendation_goodreads\\log_analysis\\logs\\2023-10-22-20.tsv.gz\n",
      "Finished concatenating file: C:\\Users\\Shadow\\ShadowDrive\\book_recommendation_goodreads\\log_analysis\\logs\\2023-10-23-00.tsv.gz\n",
      "Finished concatenating file: C:\\Users\\Shadow\\ShadowDrive\\book_recommendation_goodreads\\log_analysis\\logs\\2023-10-23-11.tsv.gz\n",
      "Finished concatenating file: C:\\Users\\Shadow\\ShadowDrive\\book_recommendation_goodreads\\log_analysis\\logs\\2023-10-23-14.tsv.gz\n",
      "Finished concatenating file: C:\\Users\\Shadow\\ShadowDrive\\book_recommendation_goodreads\\log_analysis\\logs\\2023-10-23-17.tsv.gz\n",
      "Finished concatenating file: C:\\Users\\Shadow\\ShadowDrive\\book_recommendation_goodreads\\log_analysis\\logs\\2023-10-23-23.tsv.gz\n",
      "Finished concatenating file: C:\\Users\\Shadow\\ShadowDrive\\book_recommendation_goodreads\\log_analysis\\logs\\2023-10-24-10.tsv.gz\n",
      "Finished concatenating file: C:\\Users\\Shadow\\ShadowDrive\\book_recommendation_goodreads\\log_analysis\\logs\\2023-10-24-12.tsv.gz\n",
      "Finished concatenating file: C:\\Users\\Shadow\\ShadowDrive\\book_recommendation_goodreads\\log_analysis\\logs\\2023-10-24-16.tsv.gz\n",
      "Finished concatenating file: C:\\Users\\Shadow\\ShadowDrive\\book_recommendation_goodreads\\log_analysis\\logs\\2023-10-24-20.tsv.gz\n",
      "Finished concatenating file: C:\\Users\\Shadow\\ShadowDrive\\book_recommendation_goodreads\\log_analysis\\logs\\2023-10-24-23.tsv.gz\n",
      "Finished concatenating file: C:\\Users\\Shadow\\ShadowDrive\\book_recommendation_goodreads\\log_analysis\\logs\\2023-10-25-06.tsv.gz\n",
      "Finished concatenating file: C:\\Users\\Shadow\\ShadowDrive\\book_recommendation_goodreads\\log_analysis\\logs\\2023-10-25-12.tsv.gz\n",
      "Finished concatenating file: C:\\Users\\Shadow\\ShadowDrive\\book_recommendation_goodreads\\log_analysis\\logs\\2023-10-25-16.tsv.gz\n",
      "Finished concatenating file: C:\\Users\\Shadow\\ShadowDrive\\book_recommendation_goodreads\\log_analysis\\logs\\2023-10-25-20.tsv.gz\n",
      "Finished concatenating file: C:\\Users\\Shadow\\ShadowDrive\\book_recommendation_goodreads\\log_analysis\\logs\\2023-10-25-23.tsv.gz\n",
      "Finished concatenating file: C:\\Users\\Shadow\\ShadowDrive\\book_recommendation_goodreads\\log_analysis\\logs\\2023-10-26-20.tsv.gz\n",
      "Finished concatenating file: C:\\Users\\Shadow\\ShadowDrive\\book_recommendation_goodreads\\log_analysis\\logs\\2023-10-26-22.tsv.gz\n",
      "Finished concatenating file: C:\\Users\\Shadow\\ShadowDrive\\book_recommendation_goodreads\\log_analysis\\logs\\2023-10-27-00.tsv.gz\n",
      "Finished concatenating file: C:\\Users\\Shadow\\ShadowDrive\\book_recommendation_goodreads\\log_analysis\\logs\\2023-10-27-11.tsv.gz\n",
      "Finished concatenating file: C:\\Users\\Shadow\\ShadowDrive\\book_recommendation_goodreads\\log_analysis\\logs\\2023-10-27-12.tsv.gz\n",
      "Finished concatenating file: C:\\Users\\Shadow\\ShadowDrive\\book_recommendation_goodreads\\log_analysis\\logs\\2023-10-27-17.tsv.gz\n",
      "Finished concatenating file: C:\\Users\\Shadow\\ShadowDrive\\book_recommendation_goodreads\\log_analysis\\logs\\2023-10-27-18.tsv.gz\n",
      "Finished concatenating file: C:\\Users\\Shadow\\ShadowDrive\\book_recommendation_goodreads\\log_analysis\\logs\\2023-10-27-20.tsv.gz\n",
      "Finished concatenating file: C:\\Users\\Shadow\\ShadowDrive\\book_recommendation_goodreads\\log_analysis\\logs\\2023-10-27-21.tsv.gz\n",
      "Finished concatenating file: C:\\Users\\Shadow\\ShadowDrive\\book_recommendation_goodreads\\log_analysis\\logs\\2023-10-28-01.tsv.gz\n",
      "Finished concatenating file: C:\\Users\\Shadow\\ShadowDrive\\book_recommendation_goodreads\\log_analysis\\logs\\2023-10-28-20.tsv.gz\n",
      "Finished concatenating file: C:\\Users\\Shadow\\ShadowDrive\\book_recommendation_goodreads\\log_analysis\\logs\\2023-10-28-21.tsv.gz\n",
      "Finished concatenating file: C:\\Users\\Shadow\\ShadowDrive\\book_recommendation_goodreads\\log_analysis\\logs\\2023-10-29-01.tsv.gz\n",
      "Finished concatenating file: C:\\Users\\Shadow\\ShadowDrive\\book_recommendation_goodreads\\log_analysis\\logs\\2023-10-29-21.tsv.gz\n",
      "Finished concatenating file: C:\\Users\\Shadow\\ShadowDrive\\book_recommendation_goodreads\\log_analysis\\logs\\2023-10-30-00.tsv.gz\n",
      "Finished concatenating file: C:\\Users\\Shadow\\ShadowDrive\\book_recommendation_goodreads\\log_analysis\\logs\\2023-10-30-14.tsv.gz\n",
      "Finished concatenating file: C:\\Users\\Shadow\\ShadowDrive\\book_recommendation_goodreads\\log_analysis\\logs\\2023-10-30-15.tsv.gz\n",
      "Finished concatenating file: C:\\Users\\Shadow\\ShadowDrive\\book_recommendation_goodreads\\log_analysis\\logs\\2023-10-31-01.tsv.gz\n",
      "Finished concatenating file: C:\\Users\\Shadow\\ShadowDrive\\book_recommendation_goodreads\\log_analysis\\logs\\2023-10-31-10.tsv.gz\n",
      "Finished concatenating file: C:\\Users\\Shadow\\ShadowDrive\\book_recommendation_goodreads\\log_analysis\\logs\\2023-10-31-17.tsv.gz\n",
      "Finished concatenating file: C:\\Users\\Shadow\\ShadowDrive\\book_recommendation_goodreads\\log_analysis\\logs\\2023-10-31-21.tsv.gz\n"
     ]
    },
    {
     "name": "stdout",
     "output_type": "stream",
     "text": [
      "Finished concatenating file: C:\\Users\\Shadow\\ShadowDrive\\book_recommendation_goodreads\\log_analysis\\logs\\2023-11-01-01.tsv.gz\n",
      "Finished concatenating file: C:\\Users\\Shadow\\ShadowDrive\\book_recommendation_goodreads\\log_analysis\\logs\\2023-11-02-01.tsv.gz\n",
      "Finished concatenating file: C:\\Users\\Shadow\\ShadowDrive\\book_recommendation_goodreads\\log_analysis\\logs\\2023-11-02-09.tsv.gz\n",
      "Finished concatenating file: C:\\Users\\Shadow\\ShadowDrive\\book_recommendation_goodreads\\log_analysis\\logs\\2023-11-02-11.tsv.gz\n",
      "Finished concatenating file: C:\\Users\\Shadow\\ShadowDrive\\book_recommendation_goodreads\\log_analysis\\logs\\2023-11-02-13.tsv.gz\n",
      "Finished concatenating file: C:\\Users\\Shadow\\ShadowDrive\\book_recommendation_goodreads\\log_analysis\\logs\\2023-11-02-21.tsv.gz\n",
      "Finished concatenating file: C:\\Users\\Shadow\\ShadowDrive\\book_recommendation_goodreads\\log_analysis\\logs\\2023-11-03-01.tsv.gz\n",
      "Finished concatenating file: C:\\Users\\Shadow\\ShadowDrive\\book_recommendation_goodreads\\log_analysis\\logs\\2023-11-03-21.tsv.gz\n",
      "Finished concatenating file: C:\\Users\\Shadow\\ShadowDrive\\book_recommendation_goodreads\\log_analysis\\logs\\2023-11-04-03.tsv.gz\n",
      "Finished concatenating file: C:\\Users\\Shadow\\ShadowDrive\\book_recommendation_goodreads\\log_analysis\\logs\\2023-11-04-13.tsv.gz\n",
      "Finished concatenating file: C:\\Users\\Shadow\\ShadowDrive\\book_recommendation_goodreads\\log_analysis\\logs\\2023-11-04-21.tsv.gz\n",
      "Finished concatenating file: C:\\Users\\Shadow\\ShadowDrive\\book_recommendation_goodreads\\log_analysis\\logs\\2023-11-05-03.tsv.gz\n",
      "Finished concatenating file: C:\\Users\\Shadow\\ShadowDrive\\book_recommendation_goodreads\\log_analysis\\logs\\2023-11-05-12.tsv.gz\n",
      "Finished concatenating file: C:\\Users\\Shadow\\ShadowDrive\\book_recommendation_goodreads\\log_analysis\\logs\\2023-11-05-17.tsv.gz\n",
      "Finished concatenating file: C:\\Users\\Shadow\\ShadowDrive\\book_recommendation_goodreads\\log_analysis\\logs\\2023-11-05-21.tsv.gz\n",
      "Finished concatenating file: C:\\Users\\Shadow\\ShadowDrive\\book_recommendation_goodreads\\log_analysis\\logs\\2023-11-06-01.tsv.gz\n",
      "Finished concatenating file: C:\\Users\\Shadow\\ShadowDrive\\book_recommendation_goodreads\\log_analysis\\logs\\2023-11-06-21.tsv.gz\n",
      "Finished concatenating file: C:\\Users\\Shadow\\ShadowDrive\\book_recommendation_goodreads\\log_analysis\\logs\\2023-11-07-00.tsv.gz\n",
      "Finished concatenating file: C:\\Users\\Shadow\\ShadowDrive\\book_recommendation_goodreads\\log_analysis\\logs\\2023-11-07-21.tsv.gz\n",
      "Finished concatenating file: C:\\Users\\Shadow\\ShadowDrive\\book_recommendation_goodreads\\log_analysis\\logs\\2023-11-08-03.tsv.gz\n",
      "Finished concatenating file: C:\\Users\\Shadow\\ShadowDrive\\book_recommendation_goodreads\\log_analysis\\logs\\2023-11-08-12.tsv.gz\n",
      "Finished concatenating file: C:\\Users\\Shadow\\ShadowDrive\\book_recommendation_goodreads\\log_analysis\\logs\\2023-11-08-13.tsv.gz\n",
      "Finished concatenating file: C:\\Users\\Shadow\\ShadowDrive\\book_recommendation_goodreads\\log_analysis\\logs\\2023-11-08-14.tsv.gz\n",
      "Finished concatenating file: C:\\Users\\Shadow\\ShadowDrive\\book_recommendation_goodreads\\log_analysis\\logs\\2023-11-08-21.tsv.gz\n",
      "Finished concatenating file: C:\\Users\\Shadow\\ShadowDrive\\book_recommendation_goodreads\\log_analysis\\logs\\2023-11-09-02.tsv.gz\n"
     ]
    }
   ],
   "source": [
    "all_data = pd.DataFrame()\n",
    "\n",
    "# Read the first file to get the column names\n",
    "first_file_path = file_paths[0]\n",
    "first_data = pd.read_csv(first_file_path, sep='\\t', compression='gzip')\n",
    "\n",
    "# Iterate through the list of files and concatenate them\n",
    "for file_path in file_paths:\n",
    "    # Use pandas to read the compressed TSV file with the column names from the first file\n",
    "    current_data = pd.read_csv(file_path, sep='\\t', compression='gzip', header=None, names=first_data.columns)\n",
    "\n",
    "    # Concatenate the current data to the overall DataFrame\n",
    "    all_data = pd.concat([all_data, current_data], ignore_index=True)"
   ]
  },
  {
   "cell_type": "markdown",
   "id": "33dde87e",
   "metadata": {},
   "source": [
    "***Log Data Preprocessing*** <br>\n",
    "Create a structured dataframe based on the last column of the initial frame with the raw data by using a regular expression which matches on the structure and splits up the data into multiple columns <br>\n",
    "Exclude certain Session ID form the data (These where my Session ID used when testing certain functionalities) and dropping all rows where a value was NaN (that was the case, if the log message did not match the regular expression and was therefore irrelevant for the analysis)"
   ]
  },
  {
   "cell_type": "code",
   "execution_count": 111,
   "id": "2f2233ee",
   "metadata": {},
   "outputs": [],
   "source": [
    "df = all_data['WARNING 2023-10-10 12:02:21,427 Not Found: /favicon.ico ']\n",
    "df = pd.DataFrame(df)"
   ]
  },
  {
   "cell_type": "code",
   "execution_count": 112,
   "id": "09cb8d0f",
   "metadata": {},
   "outputs": [],
   "source": [
    "# Define the regular expression pattern\n",
    "pattern = r'(?P<Warning_Level>\\w+) (?P<Timestamp>\\d{4}-\\d{2}-\\d{2} \\d{2}:\\d{2}:\\d{2},\\d{3}) User Interaction: Session ID: (?P<Session_ID>\\w+) - (?P<User_Interaction>.+)'\n",
    "\n",
    "# Apply the regular expression to extract information into columns\n",
    "log_df = df['WARNING 2023-10-10 12:02:21,427 Not Found: /favicon.ico '].str.extract(pattern)"
   ]
  },
  {
   "cell_type": "code",
   "execution_count": 121,
   "id": "2ab26b6d",
   "metadata": {},
   "outputs": [],
   "source": [
    "log_df = log_df.dropna()\n",
    "exclude_session_ids = [\"bg621uij\", \"iof2s0te\"]\n",
    "log_df = log_df[~log_df['Session_ID'].isin(exclude_session_ids)]\n",
    "log_df.to_csv('Cleaned_log.csv', index=False)"
   ]
  },
  {
   "cell_type": "markdown",
   "id": "aa43f3a7",
   "metadata": {},
   "source": [
    "***Log Data Analyis***"
   ]
  },
  {
   "cell_type": "markdown",
   "id": "627e61e3",
   "metadata": {},
   "source": [
    "***Participation***"
   ]
  },
  {
   "cell_type": "code",
   "execution_count": 3,
   "id": "8ae1f31c",
   "metadata": {},
   "outputs": [],
   "source": [
    "log_df = pd.read_csv('Cleaned_log.csv')"
   ]
  },
  {
   "cell_type": "code",
   "execution_count": 4,
   "id": "e91e2385",
   "metadata": {},
   "outputs": [
    {
     "name": "stdout",
     "output_type": "stream",
     "text": [
      "There were 150 distinct users who attempted the survey.\n",
      "103 of these completed the study, resulting in 112 responses in total.\n",
      "After filtering, 97 responses remained.\n"
     ]
    }
   ],
   "source": [
    "total_unique_users = log_df['Session_ID'].unique().size\n",
    "print(f'There were {total_unique_users} distinct users who attempted the survey.')\n",
    "print('103 of these completed the study, resulting in 112 responses in total.')\n",
    "print('After filtering, 97 responses remained.')\n",
    "# The last to information where not extracted from the log, rather from the response data"
   ]
  },
  {
   "cell_type": "markdown",
   "id": "954b83f3",
   "metadata": {},
   "source": [
    "***Button Interaction***"
   ]
  },
  {
   "cell_type": "markdown",
   "id": "beb2f939",
   "metadata": {},
   "source": [
    "***Book Description***"
   ]
  },
  {
   "cell_type": "code",
   "execution_count": 8,
   "id": "92c91cdb",
   "metadata": {},
   "outputs": [
    {
     "name": "stdout",
     "output_type": "stream",
     "text": [
      "In total, all buttons that displayed book descriptions were clicked 909 times. This results in approximately 8 description views per participation.\n",
      "The most clicked button was the one for 'The Doors of Time' with 57 clicks\n",
      "The least clicked button was the one for 'Harry Potter and the Prisoner of Azkaban' with 10 clicks\n"
     ]
    }
   ],
   "source": [
    "aggregated_description = log_df.loc[log_df['User_Interaction'].str.endswith('Description ')].groupby('User_Interaction').size().reset_index(name='amount_clicked')\n",
    "print('In total, all buttons that displayed book descriptions were clicked 909 times. This results in approximately 8 description views per participation.')\n",
    "print(\"The most clicked button was the one for 'The Doors of Time' with 57 clicks\")\n",
    "print(\"The least clicked button was the one for 'Harry Potter and the Prisoner of Azkaban' with 10 clicks\")"
   ]
  },
  {
   "cell_type": "markdown",
   "id": "bdba5679",
   "metadata": {},
   "source": [
    "***Book Cover***"
   ]
  },
  {
   "cell_type": "code",
   "execution_count": 9,
   "id": "28530416",
   "metadata": {},
   "outputs": [
    {
     "name": "stdout",
     "output_type": "stream",
     "text": [
      "In total, all book covers were clicked 143 times.\n",
      "The most clicked cover was the one for 'So Long, and Thanks for All the Fish' with 15 clicks.\n",
      "The least clicked cover was again the one for 'Harry Potter and the Prisoner of Azkaban' and 'Self-Publishing Steps To Successful Sales' with 2 clicks respectively.\n"
     ]
    }
   ],
   "source": [
    "aggregated_cover = log_df.loc[log_df['User_Interaction'].str.contains('Image')].groupby('User_Interaction').size().reset_index(name='amount_clicked')\n",
    "print('In total, all book covers were clicked 143 times.')\n",
    "print(\"The most clicked cover was the one for 'So Long, and Thanks for All the Fish' with 15 clicks.\")\n",
    "print(\"The least clicked cover was again the one for 'Harry Potter and the Prisoner of Azkaban' and 'Self-Publishing Steps To Successful Sales' with 2 clicks respectively.\")"
   ]
  },
  {
   "cell_type": "markdown",
   "id": "901b259e",
   "metadata": {},
   "source": [
    "***Back to Survey***"
   ]
  },
  {
   "cell_type": "code",
   "execution_count": 199,
   "id": "ec776bb8",
   "metadata": {},
   "outputs": [
    {
     "name": "stdout",
     "output_type": "stream",
     "text": [
      "There were 43 clicks in total for the back to survey button. So nearly 40 percent of the participants took a second look on the study.\n",
      "9 users from these 43 clicks took part in the study again. So circa 40 percent of the users who went back, participated again. Also, every eigth user participated at least twice in the study.\n"
     ]
    }
   ],
   "source": [
    "total_clicks_back_to_survey = log_df.loc[log_df['User_Interaction']=='Button clicked: Back to Survey Thank You ']['User_Interaction'].size\n",
    "print(f'There were {total_clicks_back_to_survey} clicks in total for the back to survey button. So nearly 40 percent of the participants took a second look on the study.')\n",
    "print('9 users from these 43 clicks took part in the study again. So circa 40 percent of the users who went back, participated again. Also, every eigth user participated at least twice in the study.')"
   ]
  },
  {
   "cell_type": "code",
   "execution_count": 203,
   "id": "772be9c4",
   "metadata": {},
   "outputs": [
    {
     "name": "stdout",
     "output_type": "stream",
     "text": [
      "The links listed in the scenario description as books that had already been read were clicked a total of 80 times.\n"
     ]
    }
   ],
   "source": [
    "aggregated_links = log_df.loc[log_df['User_Interaction'].str.contains('Link clicked')].groupby('User_Interaction').size().reset_index(name='amount_clicked')\n",
    "print('The links listed in the scenario description as books that had already been read were clicked a total of 80 times.')"
   ]
  }
 ],
 "metadata": {
  "kernelspec": {
   "display_name": "Python 3 (ipykernel)",
   "language": "python",
   "name": "python3"
  },
  "language_info": {
   "codemirror_mode": {
    "name": "ipython",
    "version": 3
   },
   "file_extension": ".py",
   "mimetype": "text/x-python",
   "name": "python",
   "nbconvert_exporter": "python",
   "pygments_lexer": "ipython3",
   "version": "3.11.4"
  }
 },
 "nbformat": 4,
 "nbformat_minor": 5
}
