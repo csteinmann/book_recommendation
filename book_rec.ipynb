{
 "cells": [
  {
   "cell_type": "markdown",
   "id": "fb0819f4",
   "metadata": {},
   "source": [
    "***File to create the recommendation lists used in the project***"
   ]
  },
  {
   "cell_type": "code",
   "execution_count": 1,
   "id": "34332814-27a1-4c39-80c8-fe656eb811c4",
   "metadata": {},
   "outputs": [],
   "source": [
    "import numpy as np\n",
    "import pandas as pd\n",
    "import os\n",
    "import gzip\n",
    "import json\n",
    "import re\n",
    "import pathlib\n",
    "\n",
    "BASE_DIR = pathlib.Path().resolve()"
   ]
  },
  {
   "cell_type": "markdown",
   "id": "01c9006d",
   "metadata": {},
   "source": [
    "Read the needed csv files; you have to put the specified data files (goodreads_books.json.gz, goodreads_reviews_dedup.json.gz) available here: https://mengtingwan.github.io/data/goodreads.html#datasets in the base folder of the project to work properly. Alternatively the path can be altered."
   ]
  },
  {
   "cell_type": "code",
   "execution_count": 2,
   "id": "91e99cdb-3518-428b-aa32-8a454bfc8d59",
   "metadata": {},
   "outputs": [],
   "source": [
    "book_df = pd.read_csv(os.path.join(BASE_DIR, 'df_books.csv'))\n",
    "user_df = pd.read_csv(os.path.join(BASE_DIR, 'df_users.csv'))"
   ]
  },
  {
   "cell_type": "code",
   "execution_count": 3,
   "id": "7ace6166",
   "metadata": {},
   "outputs": [
    {
     "name": "stdout",
     "output_type": "stream",
     "text": [
      "551885\n"
     ]
    }
   ],
   "source": [
    "count_zero_rows = len(user_df[user_df['user_rating'] == 0])"
   ]
  },
  {
   "cell_type": "markdown",
   "id": "63b46fbf",
   "metadata": {},
   "source": [
    "Check if any value in the relevant columns for building the recommender models is missing"
   ]
  },
  {
   "cell_type": "code",
   "execution_count": 4,
   "id": "9c0083ff-b938-4dd1-b846-1b0cb4f25f85",
   "metadata": {},
   "outputs": [
    {
     "data": {
      "text/plain": [
       "False"
      ]
     },
     "execution_count": 4,
     "metadata": {},
     "output_type": "execute_result"
    }
   ],
   "source": [
    "user_df[['book_id', 'user_id', 'user_rating']].isnull().values.any()"
   ]
  },
  {
   "cell_type": "markdown",
   "id": "928fcc5d",
   "metadata": {},
   "source": [
    "Change dtypes in the book dataframe"
   ]
  },
  {
   "cell_type": "code",
   "execution_count": 5,
   "id": "72762534-5bf6-4482-af21-b7de08fd79c0",
   "metadata": {},
   "outputs": [],
   "source": [
    "book_df = book_df.astype({'publication_year': 'Int64', 'num_pages': 'Int64'})"
   ]
  },
  {
   "cell_type": "markdown",
   "id": "5a62f735",
   "metadata": {},
   "source": [
    "Creating a dataframe for the recommender systems consisting of columns for book_id, user_id, and user_ratings <br>\n",
    "Renaming of the columns is necessary for the lenskit specification"
   ]
  },
  {
   "cell_type": "code",
   "execution_count": 6,
   "id": "a9c93bc5",
   "metadata": {},
   "outputs": [],
   "source": [
    "user_counts = user_df['user_id'].value_counts()\n",
    "users_with_enough_ratings = user_counts[user_counts >= 15].index\n",
    "filtered_df = user_df[user_df['user_id'].isin(users_with_enough_ratings)]"
   ]
  },
  {
   "cell_type": "code",
   "execution_count": 7,
   "id": "fa9b4669-fec3-48a4-a78e-7fc20767cb68",
   "metadata": {},
   "outputs": [],
   "source": [
    "model_df = filtered_df[['book_id', 'user_id', 'user_rating']]\n",
    "model_df = model_df.rename(columns={'book_id': 'item', 'user_id': 'user', 'user_rating': 'rating'})"
   ]
  },
  {
   "cell_type": "code",
   "execution_count": 8,
   "id": "a5570b97-fed0-4e1b-852d-1a2b242a3f1e",
   "metadata": {},
   "outputs": [],
   "source": [
    "book_df = book_df[book_df['title_without_series'].notna()]"
   ]
  },
  {
   "cell_type": "markdown",
   "id": "7a0107c4",
   "metadata": {},
   "source": [
    "Import the lenskit modules"
   ]
  },
  {
   "cell_type": "code",
   "execution_count": 9,
   "id": "3b2474dc-4863-4000-87e0-d8383fbcee1e",
   "metadata": {},
   "outputs": [],
   "source": [
    "from lenskit.algorithms import Recommender, item_knn, user_knn, als\n",
    "from lenskit import crossfold as xf\n",
    "from lenskit import topn, util"
   ]
  },
  {
   "cell_type": "markdown",
   "id": "154cda39",
   "metadata": {},
   "source": [
    "Configurating the 3 different algorithms"
   ]
  },
  {
   "cell_type": "code",
   "execution_count": 10,
   "id": "a2b728a6-b498-4b13-ba02-a095060aaf5c",
   "metadata": {},
   "outputs": [],
   "source": [
    "nnbrs = 20\n",
    "min_nbrs = 1\n",
    "min_sim = 0.1\n",
    "feedback = 'explicit'\n",
    "center = True\n",
    "\n",
    "algo_ii = item_knn.ItemItem(nnbrs=nnbrs, min_nbrs=min_nbrs, min_sim=min_sim, feedback=feedback, center=center)"
   ]
  },
  {
   "cell_type": "code",
   "execution_count": 11,
   "id": "42463344",
   "metadata": {},
   "outputs": [],
   "source": [
    "nnbrs = 30\n",
    "min_nbrs = 1\n",
    "min_sim = 0.1\n",
    "feedback = 'explicit'\n",
    "center = True\n",
    "\n",
    "algo_uu = user_knn.UserUser(nnbrs=nnbrs, min_nbrs=min_nbrs, min_sim=min_sim, feedback=feedback, center=center)"
   ]
  },
  {
   "cell_type": "code",
   "execution_count": 12,
   "id": "685815f2",
   "metadata": {},
   "outputs": [],
   "source": [
    "features = 50\n",
    "iterations = 20\n",
    "reg = 0.1\n",
    "damping = 5\n",
    "\n",
    "algo_als = als.BiasedMF(features=features, iterations=iterations, reg=reg, damping=damping)"
   ]
  },
  {
   "cell_type": "markdown",
   "id": "eca44806",
   "metadata": {},
   "source": [
    "Copying the algorithms and adapting them for later recommendation task"
   ]
  },
  {
   "cell_type": "code",
   "execution_count": 13,
   "id": "797b499a",
   "metadata": {},
   "outputs": [],
   "source": [
    "fit_algo_ii = Recommender.adapt(algo_ii)\n",
    "fit_algo_uu = Recommender.adapt(algo_uu)\n",
    "fit_algo_als = Recommender.adapt(algo_als)"
   ]
  },
  {
   "cell_type": "markdown",
   "id": "0b9401ad",
   "metadata": {},
   "source": [
    "Fitting the algorithms using 5 times crossvalidation"
   ]
  },
  {
   "cell_type": "code",
   "execution_count": 27,
   "id": "1892cf2c-5687-4100-bfa3-807689b72bdc",
   "metadata": {},
   "outputs": [
    {
     "name": "stdout",
     "output_type": "stream",
     "text": [
      "Finished round 1 of fitting the User-User model\n",
      "Finished round 1 of fitting the ALS model\n",
      "Finished round 2 of fitting the User-User model\n",
      "Finished round 2 of fitting the ALS model\n",
      "Finished round 3 of fitting the User-User model\n",
      "Finished round 3 of fitting the ALS model\n",
      "Finished round 4 of fitting the User-User model\n",
      "Finished round 4 of fitting the ALS model\n",
      "Finished round 5 of fitting the User-User model\n",
      "Finished round 5 of fitting the ALS model\n"
     ]
    }
   ],
   "source": [
    "for i, tp in enumerate(xf.partition_users(model_df, 5, xf.SampleFrac(0.2))):\n",
    "    train_split = tp.train.copy()\n",
    "    \n",
    "    #fit_algo_ii.fit(train_split)\n",
    "    #print('Finished round {} of fitting the Item-Item model'.format(i+1))\n",
    "    fit_algo_uu.fit(train_split)\n",
    "    print(\"Finished round {} of fitting the User-User model\".format(i+1))\n",
    "    fit_algo_als.fit(train_split)\n",
    "    print(\"Finished round {} of fitting the ALS model\".format(i+1))"
   ]
  },
  {
   "cell_type": "code",
   "execution_count": 15,
   "id": "119be5d4",
   "metadata": {},
   "outputs": [],
   "source": [
    "from pandas import Series"
   ]
  },
  {
   "cell_type": "markdown",
   "id": "7a2a99ee",
   "metadata": {},
   "source": [
    "Creating a new user which was not a part of the fitting process. Creating top-10 recommendation for this user with each algorithm"
   ]
  },
  {
   "cell_type": "code",
   "execution_count": 29,
   "id": "9162fa8e",
   "metadata": {},
   "outputs": [],
   "source": [
    " user_ratings = {\n",
    "     18490: 4, # Frankenstein\n",
    "     29579: 4, # Foundation\n",
    "     333867: 4, # The Stars My Destination\n",
    "     95558: 3, # Solaris\n",
    "     234225: 5, # Dune\n",
    "     16690: 5, # The Moon is a Harsh Mistress\n",
    "     77566: 5, # Hyperion\n",
    "     7677: 5, # Jurassic Park\n",
    "     5470: 4, # 1984\n",
    "     5129: 3, # Brave New World\n",
    "     4981: 4, # Slaughterhouse-Five\n",
    "     2767052: 5, # The Hunger Games\n",
    "     830: 4, # Snow Crash\n",
    "     7613: 3, # Animal Farm\n",
    "     227463: 4 # A Clockwork Orange\n",
    "} \n",
    "\n",
    "recs_ii = fit_algo_ii.recommend(user=-1, n=10, ratings=Series(user_ratings))\n",
    "recs_uu = fit_algo_uu.recommend(user=-1, n=10, ratings=Series(user_ratings))\n",
    "recs_als = fit_algo_als.recommend(user=-1, n=10, ratings=Series(user_ratings))"
   ]
  },
  {
   "cell_type": "markdown",
   "id": "6a5c2a55",
   "metadata": {},
   "source": [
    "Saving the recommendations to csv files"
   ]
  },
  {
   "cell_type": "code",
   "execution_count": 31,
   "id": "c7c1b6e4",
   "metadata": {},
   "outputs": [],
   "source": [
    "recs_uu.to_csv('recs_uu.csv', encoding='utf-8')\n",
    "recs_ii.to_csv('recs_ii.csv', encoding='utf-8')\n",
    "recs_als.to_csv('recs_als.csv', encoding='utf-8')"
   ]
  }
 ],
 "metadata": {
  "kernelspec": {
   "display_name": "Python 3 (ipykernel)",
   "language": "python",
   "name": "python3"
  },
  "language_info": {
   "codemirror_mode": {
    "name": "ipython",
    "version": 3
   },
   "file_extension": ".py",
   "mimetype": "text/x-python",
   "name": "python",
   "nbconvert_exporter": "python",
   "pygments_lexer": "ipython3",
   "version": "3.11.4"
  }
 },
 "nbformat": 4,
 "nbformat_minor": 5
}
